{
 "cells": [
  {
   "cell_type": "code",
   "execution_count": 3,
   "id": "2b2f9529-5997-4e95-8eee-686b3b9cd7af",
   "metadata": {},
   "outputs": [],
   "source": [
    "import pandas as pd"
   ]
  },
  {
   "cell_type": "code",
   "execution_count": 4,
   "id": "5c198098-1ea2-4fd1-85e8-c791f048e496",
   "metadata": {},
   "outputs": [],
   "source": [
    "# Reference: Import data from Yahoo Finance - https://finance.yahoo.com/quote/CSV/history/?guccounter=1&period1=1356998400&period2=1703980800\n",
    "# Asset name: Carriage Services, Inc. (CSV)\n",
    "# Currency: USD (United  State Dollar)\n",
    "df = pd.read_csv(\"finance.yahoo.com 2013-2023.csv\")"
   ]
  },
  {
   "cell_type": "code",
   "execution_count": 5,
   "id": "1f759d23-89f8-4aa5-8ba9-1268916bfcd4",
   "metadata": {},
   "outputs": [
    {
     "data": {
      "text/plain": [
       "(2768, 7)"
      ]
     },
     "execution_count": 5,
     "metadata": {},
     "output_type": "execute_result"
    }
   ],
   "source": [
    "# Display the count of columns and rows\n",
    "df.shape"
   ]
  },
  {
   "cell_type": "code",
   "execution_count": 6,
   "id": "7cfeace4-99d4-4d8e-9f2b-d178666103a2",
   "metadata": {},
   "outputs": [
    {
     "data": {
      "text/html": [
       "<div>\n",
       "<style scoped>\n",
       "    .dataframe tbody tr th:only-of-type {\n",
       "        vertical-align: middle;\n",
       "    }\n",
       "\n",
       "    .dataframe tbody tr th {\n",
       "        vertical-align: top;\n",
       "    }\n",
       "\n",
       "    .dataframe thead th {\n",
       "        text-align: right;\n",
       "    }\n",
       "</style>\n",
       "<table border=\"1\" class=\"dataframe\">\n",
       "  <thead>\n",
       "    <tr style=\"text-align: right;\">\n",
       "      <th></th>\n",
       "      <th>Date</th>\n",
       "      <th>Open</th>\n",
       "      <th>High</th>\n",
       "      <th>Low</th>\n",
       "      <th>Close</th>\n",
       "      <th>Adj Close</th>\n",
       "      <th>Volume</th>\n",
       "    </tr>\n",
       "  </thead>\n",
       "  <tbody>\n",
       "    <tr>\n",
       "      <th>0</th>\n",
       "      <td>2013-01-02</td>\n",
       "      <td>11.91</td>\n",
       "      <td>13.52</td>\n",
       "      <td>11.90</td>\n",
       "      <td>13.45</td>\n",
       "      <td>11.948698</td>\n",
       "      <td>208100</td>\n",
       "    </tr>\n",
       "    <tr>\n",
       "      <th>1</th>\n",
       "      <td>2013-01-03</td>\n",
       "      <td>13.55</td>\n",
       "      <td>13.59</td>\n",
       "      <td>12.87</td>\n",
       "      <td>12.90</td>\n",
       "      <td>11.460092</td>\n",
       "      <td>106000</td>\n",
       "    </tr>\n",
       "    <tr>\n",
       "      <th>2</th>\n",
       "      <td>2013-01-04</td>\n",
       "      <td>12.99</td>\n",
       "      <td>13.25</td>\n",
       "      <td>12.48</td>\n",
       "      <td>13.22</td>\n",
       "      <td>11.744374</td>\n",
       "      <td>54800</td>\n",
       "    </tr>\n",
       "    <tr>\n",
       "      <th>3</th>\n",
       "      <td>2013-01-07</td>\n",
       "      <td>13.15</td>\n",
       "      <td>13.22</td>\n",
       "      <td>13.00</td>\n",
       "      <td>13.05</td>\n",
       "      <td>11.593348</td>\n",
       "      <td>33300</td>\n",
       "    </tr>\n",
       "    <tr>\n",
       "      <th>4</th>\n",
       "      <td>2013-01-08</td>\n",
       "      <td>13.05</td>\n",
       "      <td>13.25</td>\n",
       "      <td>12.96</td>\n",
       "      <td>13.00</td>\n",
       "      <td>11.548930</td>\n",
       "      <td>31700</td>\n",
       "    </tr>\n",
       "  </tbody>\n",
       "</table>\n",
       "</div>"
      ],
      "text/plain": [
       "         Date   Open   High    Low  Close  Adj Close  Volume\n",
       "0  2013-01-02  11.91  13.52  11.90  13.45  11.948698  208100\n",
       "1  2013-01-03  13.55  13.59  12.87  12.90  11.460092  106000\n",
       "2  2013-01-04  12.99  13.25  12.48  13.22  11.744374   54800\n",
       "3  2013-01-07  13.15  13.22  13.00  13.05  11.593348   33300\n",
       "4  2013-01-08  13.05  13.25  12.96  13.00  11.548930   31700"
      ]
     },
     "execution_count": 6,
     "metadata": {},
     "output_type": "execute_result"
    }
   ],
   "source": [
    "# Display the records\n",
    "df.head()"
   ]
  },
  {
   "cell_type": "code",
   "execution_count": 7,
   "id": "b6e7a483-aea1-4a51-9d39-2fb9b15188c6",
   "metadata": {},
   "outputs": [
    {
     "data": {
      "text/plain": [
       "0"
      ]
     },
     "execution_count": 7,
     "metadata": {},
     "output_type": "execute_result"
    }
   ],
   "source": [
    "# Display the duplicates rows\n",
    "df.duplicated().sum()"
   ]
  },
  {
   "cell_type": "code",
   "execution_count": 8,
   "id": "52abd9f7-1c9e-41ed-bd94-05d7b7247812",
   "metadata": {},
   "outputs": [
    {
     "data": {
      "text/plain": [
       "Date         0\n",
       "Open         0\n",
       "High         0\n",
       "Low          0\n",
       "Close        0\n",
       "Adj Close    0\n",
       "Volume       0\n",
       "dtype: int64"
      ]
     },
     "execution_count": 8,
     "metadata": {},
     "output_type": "execute_result"
    }
   ],
   "source": [
    "# Display the missing values\n",
    "df.isnull().sum()"
   ]
  },
  {
   "cell_type": "code",
   "execution_count": 9,
   "id": "911da3eb-d45e-458a-a71b-51793cc78a88",
   "metadata": {},
   "outputs": [
    {
     "name": "stdout",
     "output_type": "stream",
     "text": [
      "<class 'pandas.core.frame.DataFrame'>\n",
      "RangeIndex: 2768 entries, 0 to 2767\n",
      "Data columns (total 7 columns):\n",
      " #   Column     Non-Null Count  Dtype  \n",
      "---  ------     --------------  -----  \n",
      " 0   Date       2768 non-null   object \n",
      " 1   Open       2768 non-null   float64\n",
      " 2   High       2768 non-null   float64\n",
      " 3   Low        2768 non-null   float64\n",
      " 4   Close      2768 non-null   float64\n",
      " 5   Adj Close  2768 non-null   float64\n",
      " 6   Volume     2768 non-null   int64  \n",
      "dtypes: float64(5), int64(1), object(1)\n",
      "memory usage: 151.5+ KB\n"
     ]
    }
   ],
   "source": [
    "# Print a concise summary of a DataFrame.\n",
    "df.info()"
   ]
  },
  {
   "cell_type": "code",
   "execution_count": 10,
   "id": "b7f0bcd3-b884-4642-8290-7245378f89ab",
   "metadata": {},
   "outputs": [
    {
     "data": {
      "text/html": [
       "<div>\n",
       "<style scoped>\n",
       "    .dataframe tbody tr th:only-of-type {\n",
       "        vertical-align: middle;\n",
       "    }\n",
       "\n",
       "    .dataframe tbody tr th {\n",
       "        vertical-align: top;\n",
       "    }\n",
       "\n",
       "    .dataframe thead th {\n",
       "        text-align: right;\n",
       "    }\n",
       "</style>\n",
       "<table border=\"1\" class=\"dataframe\">\n",
       "  <thead>\n",
       "    <tr style=\"text-align: right;\">\n",
       "      <th></th>\n",
       "      <th>Date</th>\n",
       "      <th>Close</th>\n",
       "    </tr>\n",
       "  </thead>\n",
       "  <tbody>\n",
       "    <tr>\n",
       "      <th>0</th>\n",
       "      <td>2013-01-02</td>\n",
       "      <td>13.45</td>\n",
       "    </tr>\n",
       "    <tr>\n",
       "      <th>1</th>\n",
       "      <td>2013-01-03</td>\n",
       "      <td>12.90</td>\n",
       "    </tr>\n",
       "    <tr>\n",
       "      <th>2</th>\n",
       "      <td>2013-01-04</td>\n",
       "      <td>13.22</td>\n",
       "    </tr>\n",
       "    <tr>\n",
       "      <th>3</th>\n",
       "      <td>2013-01-07</td>\n",
       "      <td>13.05</td>\n",
       "    </tr>\n",
       "    <tr>\n",
       "      <th>4</th>\n",
       "      <td>2013-01-08</td>\n",
       "      <td>13.00</td>\n",
       "    </tr>\n",
       "  </tbody>\n",
       "</table>\n",
       "</div>"
      ],
      "text/plain": [
       "         Date  Close\n",
       "0  2013-01-02  13.45\n",
       "1  2013-01-03  12.90\n",
       "2  2013-01-04  13.22\n",
       "3  2013-01-07  13.05\n",
       "4  2013-01-08  13.00"
      ]
     },
     "execution_count": 10,
     "metadata": {},
     "output_type": "execute_result"
    }
   ],
   "source": [
    "# assign only column Date and Close to our dataframe object\n",
    "df = df[['Date','Close']]\n",
    "df.head()"
   ]
  },
  {
   "cell_type": "code",
   "execution_count": 11,
   "id": "21a96cff-36d4-46bc-834e-eab6971028fb",
   "metadata": {},
   "outputs": [],
   "source": [
    "# Convert the 'Date' column to datetime format\n",
    "df.loc[:, 'Date'] = pd.to_datetime(df['Date'])\n",
    "\n",
    "# Set 'Date' column as the index\n",
    "df.set_index('Date', inplace=True)"
   ]
  },
  {
   "cell_type": "code",
   "execution_count": null,
   "id": "3703afd5-c178-45ca-bbea-650d047179c0",
   "metadata": {},
   "outputs": [],
   "source": []
  }
 ],
 "metadata": {
  "kernelspec": {
   "display_name": "Python 3 (ipykernel)",
   "language": "python",
   "name": "python3"
  },
  "language_info": {
   "codemirror_mode": {
    "name": "ipython",
    "version": 3
   },
   "file_extension": ".py",
   "mimetype": "text/x-python",
   "name": "python",
   "nbconvert_exporter": "python",
   "pygments_lexer": "ipython3",
   "version": "3.11.7"
  }
 },
 "nbformat": 4,
 "nbformat_minor": 5
}
