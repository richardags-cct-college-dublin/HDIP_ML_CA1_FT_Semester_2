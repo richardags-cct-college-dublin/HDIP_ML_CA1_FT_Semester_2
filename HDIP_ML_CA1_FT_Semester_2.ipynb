{
 "cells": [
  {
   "cell_type": "code",
   "execution_count": 3,
   "id": "2b2f9529-5997-4e95-8eee-686b3b9cd7af",
   "metadata": {},
   "outputs": [],
   "source": [
    "import pandas as pd"
   ]
  },
  {
   "cell_type": "code",
   "execution_count": 4,
   "id": "5c198098-1ea2-4fd1-85e8-c791f048e496",
   "metadata": {},
   "outputs": [],
   "source": [
    "# Reference: Import data from Yahoo Finance - https://finance.yahoo.com/quote/CSV/history/?guccounter=1&period1=1356998400&period2=1703980800\n",
    "# Asset name: Carriage Services, Inc. (CSV)\n",
    "# Currency: USD (United  State Dollar)\n",
    "df = pd.read_csv(\"finance.yahoo.com 2013-2023.csv\")"
   ]
  },
  {
   "cell_type": "code",
   "execution_count": 5,
   "id": "1f759d23-89f8-4aa5-8ba9-1268916bfcd4",
   "metadata": {},
   "outputs": [
    {
     "data": {
      "text/plain": [
       "(2768, 7)"
      ]
     },
     "execution_count": 5,
     "metadata": {},
     "output_type": "execute_result"
    }
   ],
   "source": [
    "# Display the count of columns and rows\n",
    "df.shape"
   ]
  },
  {
   "cell_type": "code",
   "execution_count": 6,
   "id": "7cfeace4-99d4-4d8e-9f2b-d178666103a2",
   "metadata": {},
   "outputs": [
    {
     "data": {
      "text/html": [
       "<div>\n",
       "<style scoped>\n",
       "    .dataframe tbody tr th:only-of-type {\n",
       "        vertical-align: middle;\n",
       "    }\n",
       "\n",
       "    .dataframe tbody tr th {\n",
       "        vertical-align: top;\n",
       "    }\n",
       "\n",
       "    .dataframe thead th {\n",
       "        text-align: right;\n",
       "    }\n",
       "</style>\n",
       "<table border=\"1\" class=\"dataframe\">\n",
       "  <thead>\n",
       "    <tr style=\"text-align: right;\">\n",
       "      <th></th>\n",
       "      <th>Date</th>\n",
       "      <th>Open</th>\n",
       "      <th>High</th>\n",
       "      <th>Low</th>\n",
       "      <th>Close</th>\n",
       "      <th>Adj Close</th>\n",
       "      <th>Volume</th>\n",
       "    </tr>\n",
       "  </thead>\n",
       "  <tbody>\n",
       "    <tr>\n",
       "      <th>0</th>\n",
       "      <td>2013-01-02</td>\n",
       "      <td>11.91</td>\n",
       "      <td>13.52</td>\n",
       "      <td>11.90</td>\n",
       "      <td>13.45</td>\n",
       "      <td>11.948698</td>\n",
       "      <td>208100</td>\n",
       "    </tr>\n",
       "    <tr>\n",
       "      <th>1</th>\n",
       "      <td>2013-01-03</td>\n",
       "      <td>13.55</td>\n",
       "      <td>13.59</td>\n",
       "      <td>12.87</td>\n",
       "      <td>12.90</td>\n",
       "      <td>11.460092</td>\n",
       "      <td>106000</td>\n",
       "    </tr>\n",
       "    <tr>\n",
       "      <th>2</th>\n",
       "      <td>2013-01-04</td>\n",
       "      <td>12.99</td>\n",
       "      <td>13.25</td>\n",
       "      <td>12.48</td>\n",
       "      <td>13.22</td>\n",
       "      <td>11.744374</td>\n",
       "      <td>54800</td>\n",
       "    </tr>\n",
       "    <tr>\n",
       "      <th>3</th>\n",
       "      <td>2013-01-07</td>\n",
       "      <td>13.15</td>\n",
       "      <td>13.22</td>\n",
       "      <td>13.00</td>\n",
       "      <td>13.05</td>\n",
       "      <td>11.593348</td>\n",
       "      <td>33300</td>\n",
       "    </tr>\n",
       "    <tr>\n",
       "      <th>4</th>\n",
       "      <td>2013-01-08</td>\n",
       "      <td>13.05</td>\n",
       "      <td>13.25</td>\n",
       "      <td>12.96</td>\n",
       "      <td>13.00</td>\n",
       "      <td>11.548930</td>\n",
       "      <td>31700</td>\n",
       "    </tr>\n",
       "  </tbody>\n",
       "</table>\n",
       "</div>"
      ],
      "text/plain": [
       "         Date   Open   High    Low  Close  Adj Close  Volume\n",
       "0  2013-01-02  11.91  13.52  11.90  13.45  11.948698  208100\n",
       "1  2013-01-03  13.55  13.59  12.87  12.90  11.460092  106000\n",
       "2  2013-01-04  12.99  13.25  12.48  13.22  11.744374   54800\n",
       "3  2013-01-07  13.15  13.22  13.00  13.05  11.593348   33300\n",
       "4  2013-01-08  13.05  13.25  12.96  13.00  11.548930   31700"
      ]
     },
     "execution_count": 6,
     "metadata": {},
     "output_type": "execute_result"
    }
   ],
   "source": [
    "# Display the records\n",
    "df.head()"
   ]
  },
  {
   "cell_type": "code",
   "execution_count": 7,
   "id": "b6e7a483-aea1-4a51-9d39-2fb9b15188c6",
   "metadata": {},
   "outputs": [
    {
     "data": {
      "text/plain": [
       "0"
      ]
     },
     "execution_count": 7,
     "metadata": {},
     "output_type": "execute_result"
    }
   ],
   "source": [
    "# Display the duplicates rows\n",
    "df.duplicated().sum()"
   ]
  },
  {
   "cell_type": "code",
   "execution_count": 8,
   "id": "52abd9f7-1c9e-41ed-bd94-05d7b7247812",
   "metadata": {},
   "outputs": [
    {
     "data": {
      "text/plain": [
       "Date         0\n",
       "Open         0\n",
       "High         0\n",
       "Low          0\n",
       "Close        0\n",
       "Adj Close    0\n",
       "Volume       0\n",
       "dtype: int64"
      ]
     },
     "execution_count": 8,
     "metadata": {},
     "output_type": "execute_result"
    }
   ],
   "source": [
    "# Display the missing values\n",
    "df.isnull().sum()"
   ]
  },
  {
   "cell_type": "code",
   "execution_count": 9,
   "id": "911da3eb-d45e-458a-a71b-51793cc78a88",
   "metadata": {},
   "outputs": [
    {
     "name": "stdout",
     "output_type": "stream",
     "text": [
      "<class 'pandas.core.frame.DataFrame'>\n",
      "RangeIndex: 2768 entries, 0 to 2767\n",
      "Data columns (total 7 columns):\n",
      " #   Column     Non-Null Count  Dtype  \n",
      "---  ------     --------------  -----  \n",
      " 0   Date       2768 non-null   object \n",
      " 1   Open       2768 non-null   float64\n",
      " 2   High       2768 non-null   float64\n",
      " 3   Low        2768 non-null   float64\n",
      " 4   Close      2768 non-null   float64\n",
      " 5   Adj Close  2768 non-null   float64\n",
      " 6   Volume     2768 non-null   int64  \n",
      "dtypes: float64(5), int64(1), object(1)\n",
      "memory usage: 151.5+ KB\n"
     ]
    }
   ],
   "source": [
    "# Print a concise summary of a DataFrame.\n",
    "df.info()"
   ]
  },
  {
   "cell_type": "code",
   "execution_count": 10,
   "id": "b7f0bcd3-b884-4642-8290-7245378f89ab",
   "metadata": {},
   "outputs": [
    {
     "data": {
      "text/html": [
       "<div>\n",
       "<style scoped>\n",
       "    .dataframe tbody tr th:only-of-type {\n",
       "        vertical-align: middle;\n",
       "    }\n",
       "\n",
       "    .dataframe tbody tr th {\n",
       "        vertical-align: top;\n",
       "    }\n",
       "\n",
       "    .dataframe thead th {\n",
       "        text-align: right;\n",
       "    }\n",
       "</style>\n",
       "<table border=\"1\" class=\"dataframe\">\n",
       "  <thead>\n",
       "    <tr style=\"text-align: right;\">\n",
       "      <th></th>\n",
       "      <th>Date</th>\n",
       "      <th>Close</th>\n",
       "    </tr>\n",
       "  </thead>\n",
       "  <tbody>\n",
       "    <tr>\n",
       "      <th>0</th>\n",
       "      <td>2013-01-02</td>\n",
       "      <td>13.45</td>\n",
       "    </tr>\n",
       "    <tr>\n",
       "      <th>1</th>\n",
       "      <td>2013-01-03</td>\n",
       "      <td>12.90</td>\n",
       "    </tr>\n",
       "    <tr>\n",
       "      <th>2</th>\n",
       "      <td>2013-01-04</td>\n",
       "      <td>13.22</td>\n",
       "    </tr>\n",
       "    <tr>\n",
       "      <th>3</th>\n",
       "      <td>2013-01-07</td>\n",
       "      <td>13.05</td>\n",
       "    </tr>\n",
       "    <tr>\n",
       "      <th>4</th>\n",
       "      <td>2013-01-08</td>\n",
       "      <td>13.00</td>\n",
       "    </tr>\n",
       "  </tbody>\n",
       "</table>\n",
       "</div>"
      ],
      "text/plain": [
       "         Date  Close\n",
       "0  2013-01-02  13.45\n",
       "1  2013-01-03  12.90\n",
       "2  2013-01-04  13.22\n",
       "3  2013-01-07  13.05\n",
       "4  2013-01-08  13.00"
      ]
     },
     "execution_count": 10,
     "metadata": {},
     "output_type": "execute_result"
    }
   ],
   "source": [
    "# assign only column Date and Close to our dataframe object\n",
    "df = df[['Date','Close']]\n",
    "df.head()"
   ]
  },
  {
   "cell_type": "code",
   "execution_count": 11,
   "id": "21a96cff-36d4-46bc-834e-eab6971028fb",
   "metadata": {},
   "outputs": [],
   "source": [
    "# Convert the 'Date' column to datetime format\n",
    "df.loc[:, 'Date'] = pd.to_datetime(df['Date'])\n",
    "\n",
    "# Set 'Date' column as the index\n",
    "df.set_index('Date', inplace=True)"
   ]
  },
  {
   "cell_type": "markdown",
   "id": "a5f65c51-99ad-4973-a3e1-417295567d24",
   "metadata": {},
   "source": [
    "## Visualizing Dataset\n",
    "\n",
    "Let's visualize the close USD (dollar) price between 2013 and 2023. The code for producing this visualization is as follows:"
   ]
  },
  {
   "cell_type": "code",
   "execution_count": 13,
   "id": "da5b72c6-6a4e-47b3-b807-87a56b82acbf",
   "metadata": {},
   "outputs": [
    {
     "data": {
      "text/plain": [
       "<Figure size 1200x500 with 0 Axes>"
      ]
     },
     "metadata": {},
     "output_type": "display_data"
    },
    {
     "data": {
      "image/png": "[encoded data removed]",
      "text/plain": [
       "<Figure size 1400x600 with 1 Axes>"
      ]
     },
     "metadata": {},
     "output_type": "display_data"
    }
   ],
   "source": [
    "import matplotlib.pyplot as plt\n",
    "\n",
    "# Visualize Carriage Services, Inc. (CSV) Stock Close Prices (2013-2023)\n",
    "plt.figure(figsize=[12, 5]); # Set dimensions for figure\n",
    "df.plot(figsize = (14, 6), color = 'b')   # \n",
    "plt.title('Carriage Services, Inc. (CSV) Stock Close Prices (2013-2023)')\n",
    "plt.ylabel('Close Price (USD)')\n",
    "plt.xlabel('Date')\n",
    "plt.xticks(ticks=['2013','2014','2015','2016','2017','2018','2019','2020','2021','2022','2023','2023-12-31'])\n",
    "plt.yticks(ticks=[10,15,20,25,30,35,40,45,50,55,60,65])\n",
    "plt.legend()\n",
    "plt.grid(axis='both')\n",
    "plt.show()"
   ]
  },
  {
   "cell_type": "markdown",
   "id": "2c2d82da-a9bb-4da8-8ad2-ee8474c656a5",
   "metadata": {},
   "source": [
    "## Testing the Stationarity of the Dataset"
   ]
  },
  {
   "cell_type": "markdown",
   "id": "15abdc13-e792-4ec4-b5e3-5f8c1e3db9ac",
   "metadata": {},
   "source": [
    "The Augmented Dickey-Fuller test can be used to test for a unit root, in other words if it has seasonal patterns.\n",
    "And, is very important to know if our dataset has seasonal patterns or not because we will need to choice which model is better for our dataset between ARIMA or SARIMA.\n",
    "- ARIMA has better results without seasonal patterns\n",
    "- SARIMA has better results with seasonal patterns\n",
    "\n",
    "Let try to find if our dataset has or not seasonal patterns using ADF as mentioned before."
   ]
  },
  {
   "cell_type": "code",
   "execution_count": 14,
   "id": "b2aefa7a-cdec-4a8b-94ac-40e687bcf2ae",
   "metadata": {},
   "outputs": [
    {
     "name": "stdout",
     "output_type": "stream",
     "text": [
      "ADF Statistic: -2.1131095222776044\n",
      "p-value: 0.23927597537488843\n"
     ]
    }
   ],
   "source": [
    "from statsmodels.tsa.stattools import adfuller\n",
    "# Augmented Dickey-Fuller test (ADF Test)\n",
    "ad_fuller_result = adfuller(df['Close'])\n",
    "\n",
    "# Display the outcome of Augmented Dicky-Fuller Test\n",
    "print(f'ADF Statistic: {ad_fuller_result[0]}')\n",
    "print(f'p-value: {ad_fuller_result[1]}')"
   ]
  },
  {
   "cell_type": "markdown",
   "id": "84953e05-d02f-40cb-8730-688c7f362f66",
   "metadata": {},
   "source": [
    "First, we have to know about p-value significance.\n",
    "- if our p-value is greater than 0.05 we say it has unit root (non-stationary)\n",
    "- if our p-value is less or equal than 0.05 we say it doesn't has unit root (stationary)\n",
    "\n",
    "The presence of a unit root indicates that the time series is non-stationary, meaning its statistical properties (mean, variance) change over time, making it more challenging to model and forecast.\n",
    "\n",
    "We can easily see p-value is greater than 0.05 and it tell us that our dataset has great chances to be seasonal patterns."
   ]
  },
  {
   "cell_type": "markdown",
   "id": "5de64d74-d963-43bc-a1e6-cf9036dd6ae9",
   "metadata": {},
   "source": [
    "Conclusion:\n",
    "- unit root = seasonal = non-stationarity = p > 0.05 = null hypothesis\n",
    "- no unit root = non-seasonal = stationarity = p <= 0.05 = non-null hypothesis"
   ]
  },
  {
   "cell_type": "markdown",
   "id": "8ba4c914-ec48-417a-923a-996f35e82cf1",
   "metadata": {},
   "source": [
    "Note: be carefully analysing this p-value, something we get exponential p-value as example '1.0850793453618563e-07' and it mean that our p-value is actually 0.00000010850793453618563 (p-value less than 0.05)"
   ]
  },
  {
   "cell_type": "markdown",
   "id": "038e516b-e519-4b4e-b36a-d95b20aa9380",
   "metadata": {},
   "source": [
    "## Differencing\n",
    "\n",
    "Since the p-value is large, we cannot reject the null hypothesis (also knows as unit root) and must assume that the time series is non-stationary. We commit to the first order differencing of electricity values and perform ADF test again on the dataset."
   ]
  },
  {
   "cell_type": "code",
   "execution_count": null,
   "id": "79893eca-51c2-4987-acc5-2e311f0f73fd",
   "metadata": {},
   "outputs": [],
   "source": [
    "df['Close First Difference'] = df['Close'].diff(1)\n",
    "# Shift index by desired number of periods with an optional time `freq`.\n",
    "\n",
    "# Show first five records\n",
    "df.head()"
   ]
  },
  {
   "cell_type": "code",
   "execution_count": null,
   "id": "c7459cbc-a99a-4398-88d0-a9c1093cf06f",
   "metadata": {},
   "outputs": [],
   "source": [
    "# Drop the first row of 'Close' column because It has 'NaN' value\n",
    "df = df.iloc[1: , :]\n",
    "\n",
    "# Display the first five records\n",
    "df.head()"
   ]
  },
  {
   "cell_type": "code",
   "execution_count": null,
   "id": "a3a5b29b-8f3d-4409-8643-0a17e65bd7d4",
   "metadata": {},
   "outputs": [],
   "source": [
    "# Augmented Dickey-Fuller test\n",
    "ad_fuller_result = adfuller(df['Close First Difference'])\n",
    "\n",
    "# Display the outcomes of Dicky Fuller test\n",
    "print(f'ADF Statistic: {ad_fuller_result[0]}')\n",
    "print(f'p-value: {ad_fuller_result[1]}')"
   ]
  },
  {
   "cell_type": "code",
   "execution_count": null,
   "id": "ce091c7e-a39f-4ef7-bfa1-9318febaf5fe",
   "metadata": {},
   "outputs": [],
   "source": []
  }
 ],
 "metadata": {
  "kernelspec": {
   "display_name": "Python 3 (ipykernel)",
   "language": "python",
   "name": "python3"
  },
  "language_info": {
   "codemirror_mode": {
    "name": "ipython",
    "version": 3
   },
   "file_extension": ".py",
   "mimetype": "text/x-python",
   "name": "python",
   "nbconvert_exporter": "python",
   "pygments_lexer": "ipython3",
   "version": "3.11.7"
  }
 },
 "nbformat": 4,
 "nbformat_minor": 5
}
